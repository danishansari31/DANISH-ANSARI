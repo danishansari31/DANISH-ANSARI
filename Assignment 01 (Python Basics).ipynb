{
 "cells": [
  {
   "cell_type": "markdown",
   "metadata": {},
   "source": [
    "# Part -1 Python Basics (Variables)"
   ]
  },
  {
   "cell_type": "markdown",
   "metadata": {},
   "source": [
    "1. Print Your Name with your Father name and Date of birth using suitable escape sequence charactor"
   ]
  },
  {
   "cell_type": "code",
   "execution_count": 3,
   "metadata": {},
   "outputs": [
    {
     "name": "stdout",
     "output_type": "stream",
     "text": [
      "Name:\tDanish Ansari\n",
      "Fathers's Name:\tNasir Ansari\n",
      "Date of Birth:\t31-3-2007\n"
     ]
    }
   ],
   "source": [
    "# Write your code here\n",
    "print(\"Name:\\tDanish Ansari\\nFathers's Name:\\tNasir Ansari\\nDate of Birth:\\t31-3-2007\")\n"
   ]
  },
  {
   "cell_type": "markdown",
   "metadata": {},
   "source": [
    "2. Write your small bio using variables and print it using print function"
   ]
  },
  {
   "cell_type": "code",
   "execution_count": 17,
   "metadata": {},
   "outputs": [
    {
     "name": "stdout",
     "output_type": "stream",
     "text": [
      "Danish Ansari\n",
      "I am 18 years old my date of birth is 31 March 2007\n",
      "I am in class 12 in government KMC collage\n",
      "I like to play football and cricket\n"
     ]
    }
   ],
   "source": [
    "# Write your code here\n",
    "name = \"Danish Ansari\"\n",
    "Age = \"I am 18 years old my date of birth is 31 March 2007\"\n",
    "Qualification = \"I am in class 12 in government KMC collage\"\n",
    "Hobby = \"I like to play football and cricket\" \n",
    "print(name)\n",
    "print(Age)\n",
    "print(Qualification)\n",
    "print(Hobby)\n",
    "      "
   ]
  },
  {
   "cell_type": "markdown",
   "metadata": {},
   "source": [
    "3. Write a program in which use all the operators we can use in Python"
   ]
  },
  {
   "cell_type": "code",
   "execution_count": 45,
   "metadata": {},
   "outputs": [
    {
     "name": "stdout",
     "output_type": "stream",
     "text": [
      "Arthmetic operators\n",
      "a + b = 12\n",
      "a - b = 6\n",
      "a * b = 27\n",
      "a % b = 0\n",
      "a ** b = 729\n",
      "a / b = 3.0\n",
      "a // b = 3\n",
      "\n",
      "Assignment operators\n",
      "x =  10\n",
      "x +=2-> 12\n",
      "x -=3-> 9\n",
      "x /=2-> 4.5\n",
      "x *=2-> 9.0\n",
      "x %=2-> 1.0\n",
      "x //=2-> 0.0\n",
      "x **=2-> 0.0\n",
      "\n",
      "comparison operators\n",
      "a == b = False\n",
      "a != b = True\n",
      "a < b = False\n",
      "a > b = True\n",
      "a >= b = True\n",
      "a <= b = False\n",
      "\n",
      "Logical operators\n",
      "a < 6 and b > 7 = False\n",
      "a > 6 and b < 7 = True\n",
      "not (a > 5)= False\n",
      "\n"
     ]
    }
   ],
   "source": [
    "# Write your code here\n",
    "# Arithmetic operators\n",
    "a = 9\n",
    "b = 3\n",
    "print(\"Arthmetic operators\")\n",
    "print(\"a + b =\",a+b)\n",
    "print(\"a - b =\",a-b)\n",
    "print(\"a * b =\",a*b)\n",
    "print(\"a % b =\",a%b)#modulus\n",
    "print(\"a ** b =\",a**b)#exponent\n",
    "print(\"a / b =\",a/b)\n",
    "print(\"a // b =\",a//b)#floor division\n",
    "print()\n",
    "\n",
    "#Assignment operators\n",
    "print(\"Assignment operators\")\n",
    "x = 10\n",
    "print(\"x = \",x)\n",
    "x +=2\n",
    "print(\"x +=2->\",x)\n",
    "x -=3\n",
    "print(\"x -=3->\",x)\n",
    "x /=2\n",
    "print(\"x /=2->\",x)\n",
    "x *=2\n",
    "print(\"x *=2->\",x)\n",
    "x %=2\n",
    "print(\"x %=2->\",x)\n",
    "x //=2\n",
    "print(\"x //=2->\",x)\n",
    "x **=2\n",
    "print(\"x **=2->\",x)\n",
    "print()\n",
    "\n",
    "#comparison operators\n",
    "print(\"comparison operators\")\n",
    "print(\"a == b =\",a==b)\n",
    "print(\"a != b =\",a!=b)\n",
    "print(\"a < b =\",a<b)\n",
    "print(\"a > b =\",a>b)    \n",
    "print(\"a >= b =\",a>=b)\n",
    "print(\"a <= b =\",a<=b)\n",
    "print()\n",
    "\n",
    "#logical operators\n",
    "print(\"Logical operators\")\n",
    "print(\"a < 6 and b > 7 =\",a<6 and b>7)\n",
    "print(\"a > 6 and b < 7 =\",a>6 and b<7)\n",
    "print(\"not (a > 5)=\",not(a > 5))\n",
    "print()\n",
    "      "
   ]
  },
  {
   "cell_type": "markdown",
   "metadata": {},
   "source": [
    "4. Completes the following steps of small task:\n",
    "    - Mention Marks of English , Islamiat and Maths out of 100 in 3 different variables\n",
    "    - Mention Variable of Total Marks and assign 300 to it\n",
    "    - Calculate Percentage"
   ]
  },
  {
   "cell_type": "code",
   "execution_count": 54,
   "metadata": {},
   "outputs": [
    {
     "name": "stdout",
     "output_type": "stream",
     "text": [
      "English marks =  75\n",
      "islamiat marks =  87\n",
      "maths marks =  75\n",
      "total marks =  300\n",
      "obtained marks =  237\n",
      "percentage =  79.0 %\n",
      "\n"
     ]
    }
   ],
   "source": [
    "# Write your code here\n",
    "# step 1: marks of subjects\n",
    "English = 75\n",
    "Islamiat = 87\n",
    "maths = 75\n",
    "\n",
    "# step 2: total marks \n",
    "total_marks = 300\n",
    "\n",
    "#step 3: obtained marks\n",
    "obtained_marks = (English + Islamiat + maths)\n",
    "\n",
    "#step 4: calculating percentage\n",
    "percentage = (obtained_marks/total_marks)*100\n",
    "print(\"English marks = \",English)\n",
    "print(\"islamiat marks = \",Islamiat)\n",
    "print(\"maths marks = \",maths)\n",
    "print(\"total marks = \",total_marks)\n",
    "print(\"obtained marks = \",obtained_marks)\n",
    "print(\"percentage = \",percentage,\"%\")\n",
    "print()"
   ]
  },
  {
   "cell_type": "markdown",
   "metadata": {},
   "source": [
    "# Part -2 Python Basics (Conditional Statements)"
   ]
  },
  {
   "cell_type": "markdown",
   "metadata": {},
   "source": [
    "1) A company decided to give bonus of 5% to employee if his/her year of service is more than 5 years.\n",
    "Ask user for their salary and year of service and print the net bonus amount."
   ]
  },
  {
   "cell_type": "code",
   "execution_count": 75,
   "metadata": {},
   "outputs": [
    {
     "name": "stdin",
     "output_type": "stream",
     "text": [
      "Enter your salary:  755888888.00\n",
      "Enter your years of service:  9\n"
     ]
    },
    {
     "name": "stdout",
     "output_type": "stream",
     "text": [
      "Your bonus amount is = 37794444.4\n"
     ]
    }
   ],
   "source": [
    "# Take input from user\n",
    "salary = float(input(\"Enter your salary: \"))\n",
    "years_of_service = int(input(\"Enter your years of service: \"))\n",
    "\n",
    "# Check condition for bonus\n",
    "if years_of_service > 5:\n",
    "    bonus = salary * 0.05\n",
    "    print(\"Your bonus amount is =\", bonus)\n",
    "else:\n",
    "    print(\"No bonus, your service is less than or equal to 5 years.\")"
   ]
  },
  {
   "cell_type": "markdown",
   "metadata": {},
   "source": [
    "\n",
    "2) Write a program to check whether a person is eligible for voting or not. (accept age from user) if age is greater than 17 eligible otherwise not eligible"
   ]
  },
  {
   "cell_type": "code",
   "execution_count": 76,
   "metadata": {},
   "outputs": [
    {
     "name": "stdin",
     "output_type": "stream",
     "text": [
      "Enter your age:  57\n"
     ]
    },
    {
     "name": "stdout",
     "output_type": "stream",
     "text": [
      "You are eligible for voting.\n"
     ]
    }
   ],
   "source": [
    "#Type your code her\n",
    "# Take input from user\n",
    "age = int(input(\"Enter your age: \"))\n",
    "\n",
    "# Check eligibility\n",
    "if age > 18:\n",
    "    print(\"You are eligible for voting.\")\n",
    "else:\n",
    "    print(\"You are not eligible for voting.\")"
   ]
  },
  {
   "cell_type": "markdown",
   "metadata": {},
   "source": [
    "\n",
    "3) Write a program to check whether a number entered by user is even or odd."
   ]
  },
  {
   "cell_type": "code",
   "execution_count": 79,
   "metadata": {},
   "outputs": [
    {
     "name": "stdin",
     "output_type": "stream",
     "text": [
      "Enter a number:  7\n"
     ]
    },
    {
     "name": "stdout",
     "output_type": "stream",
     "text": [
      "7 is Odd.\n"
     ]
    }
   ],
   "source": [
    "#Type your code here\n",
    "# Take input from user\n",
    "num = int(input(\"Enter a number: \"))\n",
    "\n",
    "# Check even or odd\n",
    "if num % 2 == 0:\n",
    "    print(num,\"is Even.\")\n",
    "else:\n",
    "    print(num,\"is Odd.\")"
   ]
  },
  {
   "cell_type": "markdown",
   "metadata": {},
   "source": [
    "4) Write a program to check whether a number is divisible by 7 or not.\n",
    "Show Answer"
   ]
  },
  {
   "cell_type": "code",
   "execution_count": 83,
   "metadata": {},
   "outputs": [
    {
     "name": "stdin",
     "output_type": "stream",
     "text": [
      "Enter a number:  7\n"
     ]
    },
    {
     "name": "stdout",
     "output_type": "stream",
     "text": [
      "7 is divisible.\n"
     ]
    }
   ],
   "source": [
    "#Type your code here\n",
    "# Take input from user\n",
    "num = int(input(\"Enter a number: \"))\n",
    "\n",
    "# Check even or odd\n",
    "if num % 7 == 0:\n",
    "    print(num,\"is divisible.\")\n",
    "else:\n",
    "    print(num,\"is not divisible.\")"
   ]
  },
  {
   "cell_type": "markdown",
   "metadata": {},
   "source": [
    "5) Write a program to display \n",
    "\"Hello\" if a number entered by user is a multiple of five , otherwise print \"Bye\"."
   ]
  },
  {
   "cell_type": "code",
   "execution_count": 86,
   "metadata": {},
   "outputs": [
    {
     "name": "stdin",
     "output_type": "stream",
     "text": [
      "Enter a number:  9\n"
     ]
    },
    {
     "name": "stdout",
     "output_type": "stream",
     "text": [
      "9 Bye.\n"
     ]
    }
   ],
   "source": [
    "#Type your code here\n",
    "# Take input from user\n",
    "num = int(input(\"Enter a number: \"))\n",
    "\n",
    "# Check even or odd\n",
    "if num % 5 == 0:\n",
    "    print(num,\"Hello.\")\n",
    "else:\n",
    "    print(num,\"Bye.\")"
   ]
  },
  {
   "cell_type": "markdown",
   "metadata": {},
   "source": [
    "7) Write a program to display the last digit of a number.\n"
   ]
  },
  {
   "cell_type": "code",
   "execution_count": 1,
   "metadata": {},
   "outputs": [
    {
     "name": "stdin",
     "output_type": "stream",
     "text": [
      "Enter a number 676\n"
     ]
    },
    {
     "name": "stdout",
     "output_type": "stream",
     "text": [
      "the last digit of 676 is 6\n"
     ]
    }
   ],
   "source": [
    "#Type your code here\n",
    "#Take input from user\n",
    "num = int(input(\"Enter a number\"))\n",
    "\n",
    "#find last digit\n",
    "last_digit = num % 10\n",
    "\n",
    "#display result\n",
    "print(\"the last digit of\",num,\"is\",last_digit)"
   ]
  },
  {
   "cell_type": "markdown",
   "metadata": {},
   "source": [
    "9) Take values of length and breadth of a rectangle from user and print if it is square or rectangle."
   ]
  },
  {
   "cell_type": "code",
   "execution_count": 6,
   "metadata": {},
   "outputs": [
    {
     "name": "stdin",
     "output_type": "stream",
     "text": [
      "Enter a lenght 6\n",
      "Enter a breath 5\n"
     ]
    },
    {
     "name": "stdout",
     "output_type": "stream",
     "text": [
      "Rectangle\n"
     ]
    }
   ],
   "source": [
    "#Type your code here \n",
    "#Take input from user\n",
    "lenght= int(input(\"Enter a lenght\"))\n",
    "breath= int(input(\"Enter a breath\"))\n",
    "\n",
    "# Check even or odd\n",
    "if lenght == breath:\n",
    "    print(\"Square\")\n",
    "else:\n",
    "    print(\"Rectangle\")\n",
    "    "
   ]
  },
  {
   "cell_type": "markdown",
   "metadata": {},
   "source": [
    "10) Take two int values from user and print greatest among them."
   ]
  },
  {
   "cell_type": "code",
   "execution_count": 9,
   "metadata": {},
   "outputs": [
    {
     "name": "stdin",
     "output_type": "stream",
     "text": [
      "Enter a first number 5\n",
      "Enter a second number 5\n"
     ]
    },
    {
     "name": "stdout",
     "output_type": "stream",
     "text": [
      "Both values is equal\n"
     ]
    }
   ],
   "source": [
    "# Type your code here\n",
    "#Take input from user\n",
    "a= int(input(\"Enter a first number\"))\n",
    "b= int(input(\"Enter a second number\"))\n",
    "\n",
    "# Check Greatest number\n",
    "if a > b:\n",
    "    print(\"Greatest number is\",a)\n",
    "elif b > a:\n",
    "    print(\"Greatest number is\",b)\n",
    "else:\n",
    "    print(\"Both values is equal\")"
   ]
  },
  {
   "cell_type": "markdown",
   "metadata": {},
   "source": [
    "11) A shop will give discount of 10% if the cost of purchased quantity is more than 1000.\n",
    "Ask user for quantity\n",
    "Suppose, one unit will cost 100.\n",
    "Judge and print total cost for user."
   ]
  },
  {
   "cell_type": "code",
   "execution_count": 13,
   "metadata": {},
   "outputs": [
    {
     "name": "stdin",
     "output_type": "stream",
     "text": [
      "Enter purchased quantity 9\n"
     ]
    },
    {
     "name": "stdout",
     "output_type": "stream",
     "text": [
      "no discount\n"
     ]
    }
   ],
   "source": [
    "#Type your code here\n",
    "#Take input from user\n",
    "purchased_quantity = int(input(\"Enter purchased quantity\"))\n",
    "cost_per_unit = 100\n",
    "total_cost = purchased_quantity * cost_per_unit\n",
    "\n",
    "if total_cost > 1000:\n",
    "    discount = total_cost *0.10\n",
    "    final_cost = total_cost - discount\n",
    "    print(\"congratulations for 10% discount\",discount)\n",
    "    print(\"your final cost is\",final_cost)\n",
    "else:\n",
    "    print(\"no discount\")\n",
    "\n",
    "    "
   ]
  },
  {
   "cell_type": "markdown",
   "metadata": {},
   "source": [
    "12) A school has following rules for grading system:\n",
    "\n",
    "a. Below 25 - F\n",
    "\n",
    "b. 25 to 45 - E\n",
    "\n",
    "c. 45 to 50 - D\n",
    "\n",
    "d. 50 to 60 - C\n",
    "\n",
    "e. 60 to 80 - B\n",
    "\n",
    "f. Above 80 - A\n",
    "\n",
    "Ask user to enter marks and print the corresponding grade."
   ]
  },
  {
   "cell_type": "code",
   "execution_count": 23,
   "metadata": {},
   "outputs": [
    {
     "name": "stdin",
     "output_type": "stream",
     "text": [
      "Enter your Marks 77\n"
     ]
    },
    {
     "name": "stdout",
     "output_type": "stream",
     "text": [
      "your grade is: B\n"
     ]
    }
   ],
   "source": [
    "#Type your code here\n",
    "#Take input from user\n",
    "marks = float(input(\"Enter your Marks\"))\n",
    "\n",
    "if marks < 25:\n",
    "   grade = \"F\"\n",
    "elif marks >= 25 and marks < 45:\n",
    "    grade = \"E\"\n",
    "elif marks >= 45 and marks < 50:\n",
    "    grade = \"D\"    \n",
    "elif marks >= 50 and marks < 60:\n",
    "    grade = \"C\" \n",
    "elif marks >= 60 and marks < 80:\n",
    "    grade = \"B\"\n",
    "else: #Above 80\n",
    "    grade = \"A\"\n",
    "print(\"your grade is:\",grade)    "
   ]
  },
  {
   "cell_type": "markdown",
   "metadata": {},
   "source": [
    "14)A student will not be allowed to sit in exam if his/her attendence is less than 75%.\n",
    "\n",
    "Take following input from user\n",
    "\n",
    "- Number of classes held\n",
    "\n",
    "- Number of classes attended.\n",
    "\n",
    "And print\n",
    "\n",
    "- percentage of class attended\n",
    "\n",
    "- Is student is allowed to sit in exam or not.\n"
   ]
  },
  {
   "cell_type": "code",
   "execution_count": 40,
   "metadata": {},
   "outputs": [
    {
     "name": "stdin",
     "output_type": "stream",
     "text": [
      "Enter Number of classes held 50\n",
      "Enter  Number of classes attended 23\n"
     ]
    },
    {
     "name": "stdout",
     "output_type": "stream",
     "text": [
      "percentage of class attended 217.39130434782606 %\n"
     ]
    }
   ],
   "source": [
    "#### Type your code here\n",
    "#Take input from user\n",
    "Number_of_classes_held = int(input(\"Enter Number of classes held\"))\n",
    "Number_of_classes_attended = int(input(\"Enter  Number of classes attended\"))\n",
    "percentage= Number_of_classes_held / Number_of_classes_attended * 100 \n",
    "if  percentage > 75:\n",
    "    print(\"percentage of class attended\",percentage,\"%\")\n",
    "else:\n",
    "    print(\"this student is not allowed to sit in exam\")"
   ]
  },
  {
   "cell_type": "markdown",
   "metadata": {},
   "source": [
    "15) Modify the above question to allow student to sit if he/she has medical cause. Ask user if he/she has medical cause or not ( 'Y' or 'N' ) and print accordingly."
   ]
  },
  {
   "cell_type": "code",
   "execution_count": 48,
   "metadata": {},
   "outputs": [
    {
     "name": "stdin",
     "output_type": "stream",
     "text": [
      "Enter if you has medical cause or not yes\n"
     ]
    },
    {
     "name": "stdout",
     "output_type": "stream",
     "text": [
      "you can sit in the exam\n"
     ]
    }
   ],
   "source": [
    "#Type your code here\n",
    "#Take input from user\n",
    "cause = input(\"Enter if you has medical cause or not\")\n",
    "\n",
    "if cause == \"yes\" :\n",
    "   print(\"you can sit in the exam\")\n",
    "else:\n",
    "    print(\"you cannot sit in thr exam\")\n"
   ]
  },
  {
   "cell_type": "markdown",
   "metadata": {},
   "source": [
    "16) Write a program to check if a year is leap year or not.\n",
    "\n",
    "If a year is divisible by 4 then it is leap year but if the year is century year like 2000, 1900, 2100 then it must be divisible by 400."
   ]
  },
  {
   "cell_type": "code",
   "execution_count": 53,
   "metadata": {},
   "outputs": [
    {
     "name": "stdin",
     "output_type": "stream",
     "text": [
      "Enter a year 3\n"
     ]
    },
    {
     "name": "stdout",
     "output_type": "stream",
     "text": [
      "this year is not a leap year\n"
     ]
    }
   ],
   "source": [
    "#Type your code here\n",
    "#Take input from user\n",
    "year=int(input(\"Enter a year\"))\n",
    "\n",
    "if year % 400 == 0:\n",
    "    print(year,\"this year is leap year\")\n",
    "elif year % 100 == 0:\n",
    "    print(year,\"this year is not a leap year\")\n",
    "elif year % 4 == 0:\n",
    "    print(year,\"this year is a leap year\")\n",
    "else:\n",
    "    print(\"this year is not a leap year\")\n"
   ]
  },
  {
   "cell_type": "markdown",
   "metadata": {},
   "source": [
    "17) Ask user to enter age, gender ( M or F ), marital status ( Y or N ) and then using following rules print their place of service.\n",
    "\n",
    "if employee is female, then she will work only in urban areas.\n",
    "\n",
    "if employee is a male and age is in between 20 to 40 then he may work in anywhere\n",
    "\n",
    "if employee is male and age is in between 40 t0 60 then he will work in urban areas only.\n",
    "\n",
    "And any other input of age should print \"ERROR\""
   ]
  },
  {
   "cell_type": "code",
   "execution_count": 54,
   "metadata": {},
   "outputs": [
    {
     "name": "stdin",
     "output_type": "stream",
     "text": [
      "Enter age:  40\n",
      "Enter gender (M/F):  M\n",
      "Enter marital status (Y/N):  y\n"
     ]
    },
    {
     "name": "stdout",
     "output_type": "stream",
     "text": [
      "He may work anywhere.\n"
     ]
    }
   ],
   "source": [
    "#Type your code here\n",
    "#Take input from user\n",
    "age = int(input(\"Enter age: \"))\n",
    "gender = input(\"Enter gender (M/F): \").upper()\n",
    "marital_status = input(\"Enter marital status (Y/N): \").upper()\n",
    "\n",
    "if gender == \"F\":\n",
    "    print(\"She will work only in urban areas.\")\n",
    "elif gender == \"M\":\n",
    "    if 20 <= age <= 40:\n",
    "        print(\"He may work anywhere.\")\n",
    "    elif 40 < age <= 60:\n",
    "        print(\"He will work only in urban areas.\")\n",
    "    else:\n",
    "        print(\"ERROR\")\n",
    "else:\n",
    "    print(\"Invalid gender input.\")"
   ]
  },
  {
   "cell_type": "markdown",
   "metadata": {},
   "source": [
    "6) Write a program to calculate the electricity bill (accept number of unit from user) according to the following criteria :\n",
    "     Unit                                                     Price  \n",
    "uptp 100 units                                             no charge\n",
    "Next 200 units                                              Rs 5 per unit\n",
    "After 200 units                                             Rs 10 per unit\n",
    "(For example if input unit is 350 than total bill amount is Rs.3500\n",
    "(For example if input unit is 97 than total bill amount is Rs.0\n",
    "(For example if input unit is 150 than total bill amount is Rs.750"
   ]
  },
  {
   "cell_type": "markdown",
   "metadata": {},
   "source": [
    "13) Take input of age of 3 people by user and determine oldest and youngest among them."
   ]
  },
  {
   "cell_type": "code",
   "execution_count": 55,
   "metadata": {},
   "outputs": [
    {
     "name": "stdin",
     "output_type": "stream",
     "text": [
      "Enter age of person 1:  67\n",
      "Enter age of person 2:  76\n",
      "Enter age of person 3:  55\n"
     ]
    },
    {
     "name": "stdout",
     "output_type": "stream",
     "text": [
      "Oldest age is: 76\n",
      "Youngest age is: 55\n"
     ]
    }
   ],
   "source": [
    "#Type your code here\n",
    "#Take input from user\n",
    "age1 = int(input(\"Enter age of person 1: \"))\n",
    "age2 = int(input(\"Enter age of person 2: \"))\n",
    "age3 = int(input(\"Enter age of person 3: \"))\n",
    "\n",
    "oldest = max(age1, age2, age3)\n",
    "\n",
    "youngest = min(age1, age2, age3)\n",
    "\n",
    "print(\"Oldest age is:\", oldest)\n",
    "print(\"Youngest age is:\", youngest)"
   ]
  },
  {
   "cell_type": "code",
   "execution_count": null,
   "metadata": {},
   "outputs": [],
   "source": []
  }
 ],
 "metadata": {
  "kernelspec": {
   "display_name": "Python 3 (ipykernel)",
   "language": "python",
   "name": "python3"
  },
  "language_info": {
   "codemirror_mode": {
    "name": "ipython",
    "version": 3
   },
   "file_extension": ".py",
   "mimetype": "text/x-python",
   "name": "python",
   "nbconvert_exporter": "python",
   "pygments_lexer": "ipython3",
   "version": "3.13.5"
  }
 },
 "nbformat": 4,
 "nbformat_minor": 4
}
